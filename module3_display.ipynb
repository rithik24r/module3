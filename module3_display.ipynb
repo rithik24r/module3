{
  "nbformat": 4,
  "nbformat_minor": 0,
  "metadata": {
    "colab": {
      "name": "Untitled3.ipynb",
      "provenance": []
    },
    "kernelspec": {
      "name": "python3",
      "display_name": "Python 3"
    }
  },
  "cells": [
    {
      "cell_type": "code",
      "metadata": {
        "id": "rfWo4Hy_CkmK",
        "colab_type": "code",
        "colab": {
          "base_uri": "https://localhost:8080/",
          "height": 219
        },
        "outputId": "027fe36c-b736-4dd8-b6d1-a7d61b944562"
      },
      "source": [
        "#fibonacii series\n",
        "number=int(input(\"enter the number\"))\n",
        "i=0\n",
        "first=0\n",
        "second=1\n",
        "while(i<number):\n",
        "            if(i<=1):\n",
        "                      next=i\n",
        "            else:\n",
        "                  next=first+second\n",
        "                  first=second\n",
        "                  second=next\n",
        "            print(next)\n",
        "            i=i+1"
      ],
      "execution_count": 3,
      "outputs": [
        {
          "output_type": "stream",
          "text": [
            "enter the number10\n",
            "0\n",
            "1\n",
            "1\n",
            "2\n",
            "3\n",
            "5\n",
            "8\n",
            "13\n",
            "21\n",
            "34\n"
          ],
          "name": "stdout"
        }
      ]
    },
    {
      "cell_type": "code",
      "metadata": {
        "id": "SXA-EGSnF9gT",
        "colab_type": "code",
        "colab": {
          "base_uri": "https://localhost:8080/",
          "height": 35
        },
        "outputId": "3f1adba9-9dba-4df8-a601-b6fb7bfc485f"
      },
      "source": [
        "#gcd of two numbers\n",
        "def hcf(x,y):\n",
        "              if x>y:\n",
        "                      smaller=y\n",
        "              else:\n",
        "                      smaller=x\n",
        "              for i in range(1,smaller+1): \n",
        "                                           if((x%i==0) and (y%i==0)):\n",
        "                                                                      hcf=i\n",
        "              return hcf\n",
        "num1=54\n",
        "num2=24\n",
        "print(hcf(num1,num2))                                                        \n"
      ],
      "execution_count": 4,
      "outputs": [
        {
          "output_type": "stream",
          "text": [
            "6\n"
          ],
          "name": "stdout"
        }
      ]
    },
    {
      "cell_type": "code",
      "metadata": {
        "id": "nwAa69urIEos",
        "colab_type": "code",
        "colab": {
          "base_uri": "https://localhost:8080/",
          "height": 54
        },
        "outputId": "1de6c40b-ad01-4d8b-f7e1-fb2c65b743e0"
      },
      "source": [
        "#to count odd or even\n",
        "numbers=(0,1,2,3,4,5,6,7,8,9,10)\n",
        "count_odd=0\n",
        "count_even=0\n",
        "for x in numbers:\n",
        "                  if not x%2:\n",
        "                               count_even+=1\n",
        "                  else:\n",
        "                               count_odd+=1\n",
        "print(\"even numbers\",count_even)\n",
        "print(\"odd numbers\",count_odd)"
      ],
      "execution_count": 5,
      "outputs": [
        {
          "output_type": "stream",
          "text": [
            "even numbers 6\n",
            "odd numbers 5\n"
          ],
          "name": "stdout"
        }
      ]
    },
    {
      "cell_type": "code",
      "metadata": {
        "id": "7lK0YgijTJSo",
        "colab_type": "code",
        "colab": {}
      },
      "source": [
        ""
      ],
      "execution_count": null,
      "outputs": []
    },
    {
      "cell_type": "code",
      "metadata": {
        "id": "gKHeam3uSjQK",
        "colab_type": "code",
        "colab": {
          "base_uri": "https://localhost:8080/",
          "height": 219
        },
        "outputId": "4695e4d4-9dc7-444d-c1e5-70a025081368"
      },
      "source": [
        "#reverse a word\n",
        "word=input(\"enter the word\")\n",
        "for char in range(len(word)-1,-1,-1):\n",
        "           print(word[char],end=\"\")\n",
        "           print(\"\\n\")"
      ],
      "execution_count": 6,
      "outputs": [
        {
          "output_type": "stream",
          "text": [
            "enter the wordgitam\n",
            "m\n",
            "\n",
            "a\n",
            "\n",
            "t\n",
            "\n",
            "i\n",
            "\n",
            "g\n",
            "\n"
          ],
          "name": "stdout"
        }
      ]
    },
    {
      "cell_type": "code",
      "metadata": {
        "id": "3i1mCyEFTSRL",
        "colab_type": "code",
        "colab": {
          "base_uri": "https://localhost:8080/",
          "height": 54
        },
        "outputId": "47bd2c10-1606-49ac-a7d3-88757d5fce26"
      },
      "source": [
        "#binary to decimal\n",
        "num=list(input(\"input binary number\"))\n",
        "value=0\n",
        "for i in range(len(num)):\n",
        "     digit=num.pop()\n",
        "     if digit=='1':\n",
        "                    value=value+pow(2,i)\n",
        "print(\"decimal value of the number is\",value)"
      ],
      "execution_count": 8,
      "outputs": [
        {
          "output_type": "stream",
          "text": [
            "input binary number1000001\n",
            "decimal value of the number is 65\n"
          ],
          "name": "stdout"
        }
      ]
    }
  ]
}